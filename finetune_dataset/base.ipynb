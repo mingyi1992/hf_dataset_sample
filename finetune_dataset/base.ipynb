{
 "cells": [
  {
   "cell_type": "markdown",
   "metadata": {},
   "source": [
    "### 安裝套件"
   ]
  },
  {
   "cell_type": "code",
   "execution_count": 1,
   "metadata": {},
   "outputs": [
    {
     "name": "stdout",
     "output_type": "stream",
     "text": [
      "Requirement already satisfied: datasets in c:\\users\\mds_nb\\miniconda3\\envs\\hf\\lib\\site-packages (3.3.2)\n",
      "Requirement already satisfied: huggingface_hub in c:\\users\\mds_nb\\miniconda3\\envs\\hf\\lib\\site-packages (0.29.1)\n",
      "Requirement already satisfied: filelock in c:\\users\\mds_nb\\miniconda3\\envs\\hf\\lib\\site-packages (from datasets) (3.17.0)\n",
      "Requirement already satisfied: numpy>=1.17 in c:\\users\\mds_nb\\appdata\\roaming\\python\\python312\\site-packages (from datasets) (2.2.3)\n",
      "Requirement already satisfied: pyarrow>=15.0.0 in c:\\users\\mds_nb\\miniconda3\\envs\\hf\\lib\\site-packages (from datasets) (19.0.1)\n",
      "Requirement already satisfied: dill<0.3.9,>=0.3.0 in c:\\users\\mds_nb\\miniconda3\\envs\\hf\\lib\\site-packages (from datasets) (0.3.8)\n",
      "Requirement already satisfied: pandas in c:\\users\\mds_nb\\appdata\\roaming\\python\\python312\\site-packages (from datasets) (2.2.3)\n",
      "Requirement already satisfied: requests>=2.32.2 in c:\\users\\mds_nb\\miniconda3\\envs\\hf\\lib\\site-packages (from datasets) (2.32.3)\n",
      "Requirement already satisfied: tqdm>=4.66.3 in c:\\users\\mds_nb\\miniconda3\\envs\\hf\\lib\\site-packages (from datasets) (4.67.1)\n",
      "Requirement already satisfied: xxhash in c:\\users\\mds_nb\\miniconda3\\envs\\hf\\lib\\site-packages (from datasets) (3.5.0)\n",
      "Requirement already satisfied: multiprocess<0.70.17 in c:\\users\\mds_nb\\miniconda3\\envs\\hf\\lib\\site-packages (from datasets) (0.70.16)\n",
      "Requirement already satisfied: fsspec<=2024.12.0,>=2023.1.0 in c:\\users\\mds_nb\\miniconda3\\envs\\hf\\lib\\site-packages (from fsspec[http]<=2024.12.0,>=2023.1.0->datasets) (2024.12.0)\n",
      "Requirement already satisfied: aiohttp in c:\\users\\mds_nb\\miniconda3\\envs\\hf\\lib\\site-packages (from datasets) (3.11.13)\n",
      "Requirement already satisfied: packaging in c:\\users\\mds_nb\\miniconda3\\envs\\hf\\lib\\site-packages (from datasets) (24.2)\n",
      "Requirement already satisfied: pyyaml>=5.1 in c:\\users\\mds_nb\\miniconda3\\envs\\hf\\lib\\site-packages (from datasets) (6.0.2)\n",
      "Requirement already satisfied: typing-extensions>=3.7.4.3 in c:\\users\\mds_nb\\miniconda3\\envs\\hf\\lib\\site-packages (from huggingface_hub) (4.12.2)\n",
      "Requirement already satisfied: aiohappyeyeballs>=2.3.0 in c:\\users\\mds_nb\\miniconda3\\envs\\hf\\lib\\site-packages (from aiohttp->datasets) (2.4.6)\n",
      "Requirement already satisfied: aiosignal>=1.1.2 in c:\\users\\mds_nb\\miniconda3\\envs\\hf\\lib\\site-packages (from aiohttp->datasets) (1.3.2)\n",
      "Requirement already satisfied: attrs>=17.3.0 in c:\\users\\mds_nb\\miniconda3\\envs\\hf\\lib\\site-packages (from aiohttp->datasets) (25.1.0)\n",
      "Requirement already satisfied: frozenlist>=1.1.1 in c:\\users\\mds_nb\\miniconda3\\envs\\hf\\lib\\site-packages (from aiohttp->datasets) (1.5.0)\n",
      "Requirement already satisfied: multidict<7.0,>=4.5 in c:\\users\\mds_nb\\miniconda3\\envs\\hf\\lib\\site-packages (from aiohttp->datasets) (6.1.0)\n",
      "Requirement already satisfied: propcache>=0.2.0 in c:\\users\\mds_nb\\miniconda3\\envs\\hf\\lib\\site-packages (from aiohttp->datasets) (0.3.0)\n",
      "Requirement already satisfied: yarl<2.0,>=1.17.0 in c:\\users\\mds_nb\\miniconda3\\envs\\hf\\lib\\site-packages (from aiohttp->datasets) (1.18.3)\n",
      "Requirement already satisfied: charset-normalizer<4,>=2 in c:\\users\\mds_nb\\miniconda3\\envs\\hf\\lib\\site-packages (from requests>=2.32.2->datasets) (3.4.1)\n",
      "Requirement already satisfied: idna<4,>=2.5 in c:\\users\\mds_nb\\miniconda3\\envs\\hf\\lib\\site-packages (from requests>=2.32.2->datasets) (3.10)\n",
      "Requirement already satisfied: urllib3<3,>=1.21.1 in c:\\users\\mds_nb\\miniconda3\\envs\\hf\\lib\\site-packages (from requests>=2.32.2->datasets) (2.3.0)\n",
      "Requirement already satisfied: certifi>=2017.4.17 in c:\\users\\mds_nb\\miniconda3\\envs\\hf\\lib\\site-packages (from requests>=2.32.2->datasets) (2025.1.31)\n",
      "Requirement already satisfied: colorama in c:\\users\\mds_nb\\miniconda3\\envs\\hf\\lib\\site-packages (from tqdm>=4.66.3->datasets) (0.4.6)\n",
      "Requirement already satisfied: python-dateutil>=2.8.2 in c:\\users\\mds_nb\\appdata\\roaming\\python\\python312\\site-packages (from pandas->datasets) (2.9.0.post0)\n",
      "Requirement already satisfied: pytz>=2020.1 in c:\\users\\mds_nb\\appdata\\roaming\\python\\python312\\site-packages (from pandas->datasets) (2025.1)\n",
      "Requirement already satisfied: tzdata>=2022.7 in c:\\users\\mds_nb\\appdata\\roaming\\python\\python312\\site-packages (from pandas->datasets) (2025.1)\n",
      "Requirement already satisfied: six>=1.5 in c:\\users\\mds_nb\\appdata\\roaming\\python\\python312\\site-packages (from python-dateutil>=2.8.2->pandas->datasets) (1.17.0)\n"
     ]
    }
   ],
   "source": [
    "!pip install datasets huggingface_hub"
   ]
  },
  {
   "cell_type": "markdown",
   "metadata": {},
   "source": [
    "### 自動切分"
   ]
  },
  {
   "cell_type": "code",
   "execution_count": null,
   "metadata": {},
   "outputs": [
    {
     "name": "stderr",
     "output_type": "stream",
     "text": [
      "Generating train split: 2 examples [00:00, 46.49 examples/s]\n"
     ]
    }
   ],
   "source": [
    "from datasets import load_dataset\n",
    "\n",
    "# Finetune\n",
    "finetune_data = load_dataset('json', data_files='dataset.json')\n",
    "finetune_dataset = finetune_data['train']  # 默認分為 'train' split"
   ]
  },
  {
   "cell_type": "code",
   "execution_count": 9,
   "metadata": {},
   "outputs": [
    {
     "name": "stdout",
     "output_type": "stream",
     "text": [
      "Finetune Dataset: Dataset({\n",
      "    features: ['input', 'output'],\n",
      "    num_rows: 2\n",
      "})\n",
      "Finetune Dataset: {'input': 'What is the capital of France?', 'output': 'The capital of France is Paris.'}\n"
     ]
    }
   ],
   "source": [
    "print(\"Finetune Dataset:\", finetune_dataset)\n",
    "print(\"Finetune Dataset:\", finetune_dataset[0])"
   ]
  },
  {
   "cell_type": "markdown",
   "metadata": {},
   "source": [
    "### 手動切分(這個跟自動切效果一樣)"
   ]
  },
  {
   "cell_type": "code",
   "execution_count": 6,
   "metadata": {},
   "outputs": [],
   "source": [
    "import json\n",
    "from datasets import Dataset\n",
    "\n",
    "# 讀取 JSON\n",
    "with open('dataset.json', 'r', encoding='utf-8') as f:\n",
    "    ft_json = json.load(f)\n",
    "\n",
    "# 轉為 Dataset\n",
    "ft_dataset = Dataset.from_dict({\n",
    "    'input': [item['input'] for item in ft_json],\n",
    "    'output': [item['output'] for item in ft_json]\n",
    "})"
   ]
  },
  {
   "cell_type": "code",
   "execution_count": 7,
   "metadata": {},
   "outputs": [
    {
     "name": "stdout",
     "output_type": "stream",
     "text": [
      "Dataset({\n",
      "    features: ['input', 'output'],\n",
      "    num_rows: 2\n",
      "})\n"
     ]
    }
   ],
   "source": [
    "print(ft_dataset)"
   ]
  },
  {
   "cell_type": "markdown",
   "metadata": {},
   "source": [
    "### 上傳hugging face"
   ]
  },
  {
   "cell_type": "code",
   "execution_count": null,
   "metadata": {},
   "outputs": [
    {
     "name": "stderr",
     "output_type": "stream",
     "text": [
      "Creating parquet from Arrow format: 100%|██████████| 1/1 [00:00<00:00, 100.03ba/s]\n",
      "Uploading the dataset shards: 100%|██████████| 1/1 [00:01<00:00,  1.95s/it]\n"
     ]
    },
    {
     "data": {
      "text/plain": [
       "CommitInfo(commit_url='https://huggingface.co/datasets/rockmii/119_testdata/commit/f408b7a19fdc4d8329225523f14faf41919236c4', commit_message='Upload dataset', commit_description='', oid='f408b7a19fdc4d8329225523f14faf41919236c4', pr_url=None, repo_url=RepoUrl('https://huggingface.co/datasets/rockmii/119_testdata', endpoint='https://huggingface.co', repo_type='dataset', repo_id='rockmii/119_testdata'), pr_revision=None, pr_num=None)"
      ]
     },
     "execution_count": 12,
     "metadata": {},
     "output_type": "execute_result"
    }
   ],
   "source": [
    "from dotenv import load_dotenv\n",
    "from pathlib import Path\n",
    "import os\n",
    "\n",
    "env_path = Path(__file__).resolve().parent / \"..\" / \".env\"\n",
    "load_dotenv(env_path)\n",
    "\n",
    "hf_token = os.getenv(\"hf_token\")\n",
    "hf_pathname = os.getenv(\"hf_pathname\")\n",
    "\n",
    "# 上傳（設為私人）\n",
    "finetune_dataset.push_to_hub(hf_pathname, private=True, token=hf_token)"
   ]
  },
  {
   "cell_type": "markdown",
   "metadata": {},
   "source": [
    "### 讀取dataset"
   ]
  },
  {
   "cell_type": "code",
   "execution_count": 13,
   "metadata": {},
   "outputs": [
    {
     "name": "stderr",
     "output_type": "stream",
     "text": [
      "c:\\Users\\mds_nb\\miniconda3\\envs\\hf\\Lib\\site-packages\\huggingface_hub\\file_download.py:142: UserWarning: `huggingface_hub` cache-system uses symlinks by default to efficiently store duplicated files but your machine does not support them in C:\\Users\\mds_nb\\.cache\\huggingface\\hub\\datasets--rockmii--119_testdata. Caching files will still work but in a degraded version that might require more space on your disk. This warning can be disabled by setting the `HF_HUB_DISABLE_SYMLINKS_WARNING` environment variable. For more details, see https://huggingface.co/docs/huggingface_hub/how-to-cache#limitations.\n",
      "To support symlinks on Windows, you either need to activate Developer Mode or to run Python as an administrator. In order to activate developer mode, see this article: https://docs.microsoft.com/en-us/windows/apps/get-started/enable-your-device-for-development\n",
      "  warnings.warn(message)\n",
      "Generating train split: 100%|██████████| 2/2 [00:00<00:00, 64.96 examples/s]"
     ]
    },
    {
     "name": "stdout",
     "output_type": "stream",
     "text": [
      "{'input': 'What is the capital of France?', 'output': 'The capital of France is Paris.'}\n"
     ]
    },
    {
     "name": "stderr",
     "output_type": "stream",
     "text": [
      "\n"
     ]
    }
   ],
   "source": [
    "from datasets import load_dataset\n",
    "from dotenv import load_dotenv\n",
    "import os\n",
    "\n",
    "# 從 .env 載入 Token\n",
    "load_dotenv()\n",
    "hf_token = os.getenv(\"hf_token\")\n",
    "hf_pathname = os.getenv(\"hf_pathname\")\n",
    "\n",
    "# 讀取私人資料集\n",
    "dataset = load_dataset(hf_pathname, token=hf_token)\n",
    "\n",
    "# 檢查第一筆資料\n",
    "print(dataset['train'][0])"
   ]
  },
  {
   "cell_type": "code",
   "execution_count": null,
   "metadata": {},
   "outputs": [],
   "source": []
  }
 ],
 "metadata": {
  "kernelspec": {
   "display_name": "hf",
   "language": "python",
   "name": "python3"
  },
  "language_info": {
   "codemirror_mode": {
    "name": "ipython",
    "version": 3
   },
   "file_extension": ".py",
   "mimetype": "text/x-python",
   "name": "python",
   "nbconvert_exporter": "python",
   "pygments_lexer": "ipython3",
   "version": "3.12.0"
  }
 },
 "nbformat": 4,
 "nbformat_minor": 2
}
